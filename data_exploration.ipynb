{
 "cells": [
  {
   "cell_type": "markdown",
   "id": "448d9a89",
   "metadata": {},
   "source": [
    "### Data Exploration "
   ]
  },
  {
   "cell_type": "code",
   "execution_count": 95,
   "id": "ae231cb2",
   "metadata": {},
   "outputs": [],
   "source": [
    "# import libraries\n",
    "import os\n",
    "import numpy as np\n",
    "import pandas as pd\n",
    "import matplotlib.pyplot as plt\n",
    "import seaborn as sns"
   ]
  },
  {
   "cell_type": "code",
   "execution_count": 101,
   "id": "cd0b3ce3",
   "metadata": {
    "colab": {
     "base_uri": "https://localhost:8080/",
     "height": 250
    },
    "executionInfo": {
     "elapsed": 224,
     "status": "error",
     "timestamp": 1694776892897,
     "user": {
      "displayName": "York Pudds (Yorkie)",
      "userId": "15802187727162843994"
     },
     "user_tz": -120
    },
    "id": "cd0b3ce3",
    "outputId": "da1cfd65-38c1-4971-dd05-c2a17ce22140"
   },
   "outputs": [
    {
     "data": {
      "text/html": [
       "<div>\n",
       "<style scoped>\n",
       "    .dataframe tbody tr th:only-of-type {\n",
       "        vertical-align: middle;\n",
       "    }\n",
       "\n",
       "    .dataframe tbody tr th {\n",
       "        vertical-align: top;\n",
       "    }\n",
       "\n",
       "    .dataframe thead th {\n",
       "        text-align: right;\n",
       "    }\n",
       "</style>\n",
       "<table border=\"1\" class=\"dataframe\">\n",
       "  <thead>\n",
       "    <tr style=\"text-align: right;\">\n",
       "      <th></th>\n",
       "      <th>year</th>\n",
       "      <th>life_ladder_median</th>\n",
       "      <th>country</th>\n",
       "      <th>region</th>\n",
       "      <th>subregion</th>\n",
       "      <th>least_developed_countries</th>\n",
       "      <th>session</th>\n",
       "      <th>speech</th>\n",
       "      <th>life_ladder</th>\n",
       "      <th>log_gdp_per_capita</th>\n",
       "      <th>...</th>\n",
       "      <th>imports</th>\n",
       "      <th>exports</th>\n",
       "      <th>fear</th>\n",
       "      <th>anger</th>\n",
       "      <th>surprise</th>\n",
       "      <th>sadness</th>\n",
       "      <th>disgust</th>\n",
       "      <th>joy</th>\n",
       "      <th>anticipation</th>\n",
       "      <th>happiness_classification</th>\n",
       "    </tr>\n",
       "  </thead>\n",
       "  <tbody>\n",
       "    <tr>\n",
       "      <th>0</th>\n",
       "      <td>2005</td>\n",
       "      <td>6.600104</td>\n",
       "      <td>Mexico</td>\n",
       "      <td>Americas</td>\n",
       "      <td>Latin America and the Caribbean</td>\n",
       "      <td>no</td>\n",
       "      <td>60</td>\n",
       "      <td>past year we member states embarked upon refor...</td>\n",
       "      <td>6.580658</td>\n",
       "      <td>9.791636</td>\n",
       "      <td>...</td>\n",
       "      <td>244001.477949</td>\n",
       "      <td>214232.956653</td>\n",
       "      <td>0.044010</td>\n",
       "      <td>0.029340</td>\n",
       "      <td>0.034230</td>\n",
       "      <td>0.031785</td>\n",
       "      <td>0.026895</td>\n",
       "      <td>0.056235</td>\n",
       "      <td>0.100244</td>\n",
       "      <td>not-happy</td>\n",
       "    </tr>\n",
       "    <tr>\n",
       "      <th>1</th>\n",
       "      <td>2005</td>\n",
       "      <td>6.600104</td>\n",
       "      <td>Japan</td>\n",
       "      <td>Asia</td>\n",
       "      <td>Eastern Asia</td>\n",
       "      <td>no</td>\n",
       "      <td>60</td>\n",
       "      <td>like first foremost convey again sincere sympa...</td>\n",
       "      <td>6.515817</td>\n",
       "      <td>10.551915</td>\n",
       "      <td>...</td>\n",
       "      <td>515219.234003</td>\n",
       "      <td>594895.500416</td>\n",
       "      <td>0.060606</td>\n",
       "      <td>0.028520</td>\n",
       "      <td>0.033868</td>\n",
       "      <td>0.035651</td>\n",
       "      <td>0.024955</td>\n",
       "      <td>0.057041</td>\n",
       "      <td>0.112299</td>\n",
       "      <td>not-happy</td>\n",
       "    </tr>\n",
       "    <tr>\n",
       "      <th>2</th>\n",
       "      <td>2005</td>\n",
       "      <td>6.600104</td>\n",
       "      <td>Belgium</td>\n",
       "      <td>Europe</td>\n",
       "      <td>Western Europe</td>\n",
       "      <td>no</td>\n",
       "      <td>60</td>\n",
       "      <td>allow congratulate warmly sir election preside...</td>\n",
       "      <td>7.262290</td>\n",
       "      <td>10.743808</td>\n",
       "      <td>...</td>\n",
       "      <td>318590.363059</td>\n",
       "      <td>334279.746500</td>\n",
       "      <td>0.072381</td>\n",
       "      <td>0.049524</td>\n",
       "      <td>0.040000</td>\n",
       "      <td>0.038095</td>\n",
       "      <td>0.034286</td>\n",
       "      <td>0.097143</td>\n",
       "      <td>0.091429</td>\n",
       "      <td>happy</td>\n",
       "    </tr>\n",
       "  </tbody>\n",
       "</table>\n",
       "<p>3 rows × 27 columns</p>\n",
       "</div>"
      ],
      "text/plain": [
       "   year  life_ladder_median  country    region  \\\n",
       "0  2005            6.600104   Mexico  Americas   \n",
       "1  2005            6.600104    Japan      Asia   \n",
       "2  2005            6.600104  Belgium    Europe   \n",
       "\n",
       "                         subregion least_developed_countries  session  \\\n",
       "0  Latin America and the Caribbean                        no       60   \n",
       "1                     Eastern Asia                        no       60   \n",
       "2                   Western Europe                        no       60   \n",
       "\n",
       "                                              speech  life_ladder  \\\n",
       "0  past year we member states embarked upon refor...     6.580658   \n",
       "1  like first foremost convey again sincere sympa...     6.515817   \n",
       "2  allow congratulate warmly sir election preside...     7.262290   \n",
       "\n",
       "   log_gdp_per_capita  ...        imports        exports      fear     anger  \\\n",
       "0            9.791636  ...  244001.477949  214232.956653  0.044010  0.029340   \n",
       "1           10.551915  ...  515219.234003  594895.500416  0.060606  0.028520   \n",
       "2           10.743808  ...  318590.363059  334279.746500  0.072381  0.049524   \n",
       "\n",
       "   surprise   sadness   disgust       joy  anticipation  \\\n",
       "0  0.034230  0.031785  0.026895  0.056235      0.100244   \n",
       "1  0.033868  0.035651  0.024955  0.057041      0.112299   \n",
       "2  0.040000  0.038095  0.034286  0.097143      0.091429   \n",
       "\n",
       "   happiness_classification  \n",
       "0                 not-happy  \n",
       "1                 not-happy  \n",
       "2                     happy  \n",
       "\n",
       "[3 rows x 27 columns]"
      ]
     },
     "execution_count": 101,
     "metadata": {},
     "output_type": "execute_result"
    }
   ],
   "source": [
    "df = pd.read_csv('Data/preprocessed_dataset.csv')\n",
    "\n",
    "df.head(3)"
   ]
  },
  {
   "cell_type": "code",
   "execution_count": 102,
   "id": "2ed3f31d",
   "metadata": {
    "scrolled": true
   },
   "outputs": [
    {
     "name": "stdout",
     "output_type": "stream",
     "text": [
      "Total null values in year: 0\n",
      "Total null values in life_ladder_median: 0\n",
      "Total null values in country: 0\n",
      "Total null values in region: 0\n",
      "Total null values in subregion: 0\n",
      "Total null values in least_developed_countries: 0\n",
      "Total null values in session: 0\n",
      "Total null values in speech: 0\n",
      "Total null values in life_ladder: 0\n",
      "Total null values in log_gdp_per_capita: 1\n",
      "Total null values in social_support: 9\n",
      "Total null values in healthy_life_expectancy: 0\n",
      "Total null values in choice_freedom: 17\n",
      "Total null values in generosity: 39\n",
      "Total null values in corruption_perception: 48\n",
      "Total null values in positive_affect: 16\n",
      "Total null values in negative_affect: 8\n",
      "Total null values in imports: 10\n",
      "Total null values in exports: 0\n",
      "Total null values in fear: 0\n",
      "Total null values in anger: 0\n",
      "Total null values in surprise: 0\n",
      "Total null values in sadness: 0\n",
      "Total null values in disgust: 0\n",
      "Total null values in joy: 0\n",
      "Total null values in anticipation: 0\n",
      "Total null values in happiness_classification: 0\n"
     ]
    }
   ],
   "source": [
    "# Describe null values in dataset\n",
    "for x in df.columns:\n",
    "    num_nulls = df[x].isnull().sum()\n",
    "    print(f\"Total null values in {x}: {num_nulls}\")\n"
   ]
  },
  {
   "cell_type": "code",
   "execution_count": 107,
   "id": "e98181a6-7d61-4057-bd3f-ede2bb258270",
   "metadata": {},
   "outputs": [
    {
     "data": {
      "image/png": "[encoded data removed]",
      "text/plain": [
       "<Figure size 640x480 with 1 Axes>"
      ]
     },
     "metadata": {},
     "output_type": "display_data"
    }
   ],
   "source": [
    "import matplotlib.pyplot as plt\n",
    "import pandas as pd\n",
    "\n",
    "\n",
    "# Create a DataFrame from the data\n",
    "df \n",
    "\n",
    "# Create a scatter plot\n",
    "plt.scatter(df['year'], df['life_ladder_median'], label=region)\n",
    "\n",
    "# Add labels and legend\n",
    "plt.xlabel('Year')\n",
    "plt.ylabel('Life Ladder Median')\n",
    "plt.title('Life Ladder Median by Region and Year')\n",
    "plt.legend()\n",
    "\n",
    "# Show the plot\n",
    "plt.grid(True)\n",
    "plt.show()\n"
   ]
  }
 ],
 "metadata": {
  "colab": {
   "provenance": [],
   "toc_visible": true
  },
  "kernelspec": {
   "display_name": "Python 3 (ipykernel)",
   "language": "python",
   "name": "python3"
  },
  "language_info": {
   "codemirror_mode": {
    "name": "ipython",
    "version": 3
   },
   "file_extension": ".py",
   "mimetype": "text/x-python",
   "name": "python",
   "nbconvert_exporter": "python",
   "pygments_lexer": "ipython3",
   "version": "3.9.13"
  },
  "vscode": {
   "interpreter": {
    "hash": "aee8b7b246df8f9039afb4144a1f6fd8d2ca17a180786b69acc140d282b71a49"
   }
  }
 },
 "nbformat": 4,
 "nbformat_minor": 5
}
