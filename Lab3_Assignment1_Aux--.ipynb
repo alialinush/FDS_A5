{
 "cells": [
  {
   "cell_type": "markdown",
   "id": "448d9a89",
   "metadata": {},
   "source": [
    "### Assignment 1: UN Debates, World Happiness and International Trade\n",
    "### Fundamentals of Data Science\n",
    "\n",
    "#### By Sion Coolwijk (13119001), ...\n",
    "\n"
   ]
  },
  {
   "cell_type": "code",
   "execution_count": 4,
   "id": "cd0b3ce3",
   "metadata": {
    "colab": {
     "base_uri": "https://localhost:8080/",
     "height": 250
    },
    "executionInfo": {
     "elapsed": 224,
     "status": "error",
     "timestamp": 1694776892897,
     "user": {
      "displayName": "York Pudds (Yorkie)",
      "userId": "15802187727162843994"
     },
     "user_tz": -120
    },
    "id": "cd0b3ce3",
    "outputId": "da1cfd65-38c1-4971-dd05-c2a17ce22140"
   },
   "outputs": [
    {
     "data": {
      "text/html": [
       "<div>\n",
       "<style scoped>\n",
       "    .dataframe tbody tr th:only-of-type {\n",
       "        vertical-align: middle;\n",
       "    }\n",
       "\n",
       "    .dataframe tbody tr th {\n",
       "        vertical-align: top;\n",
       "    }\n",
       "\n",
       "    .dataframe thead th {\n",
       "        text-align: right;\n",
       "    }\n",
       "</style>\n",
       "<table border=\"1\" class=\"dataframe\">\n",
       "  <thead>\n",
       "    <tr style=\"text-align: right;\">\n",
       "      <th></th>\n",
       "      <th></th>\n",
       "      <th>Country or Area</th>\n",
       "      <th>Region Name</th>\n",
       "      <th>Sub-region Name</th>\n",
       "      <th>Least Developed Countries (LDC)</th>\n",
       "      <th>Session</th>\n",
       "      <th>Speech</th>\n",
       "    </tr>\n",
       "    <tr>\n",
       "      <th>Year</th>\n",
       "      <th>ISO-alpha3 Code</th>\n",
       "      <th></th>\n",
       "      <th></th>\n",
       "      <th></th>\n",
       "      <th></th>\n",
       "      <th></th>\n",
       "      <th></th>\n",
       "    </tr>\n",
       "  </thead>\n",
       "  <tbody>\n",
       "    <tr>\n",
       "      <th rowspan=\"5\" valign=\"top\">1970</th>\n",
       "      <th>AUT</th>\n",
       "      <td>Austria</td>\n",
       "      <td>Europe</td>\n",
       "      <td>Western Europe</td>\n",
       "      <td>NaN</td>\n",
       "      <td>25</td>\n",
       "      <td>155.\\t  May I begin by expressing to Ambassado...</td>\n",
       "    </tr>\n",
       "    <tr>\n",
       "      <th>MEX</th>\n",
       "      <td>Mexico</td>\n",
       "      <td>Americas</td>\n",
       "      <td>Latin America and the Caribbean</td>\n",
       "      <td>NaN</td>\n",
       "      <td>25</td>\n",
       "      <td>33.\\t  Mr. President, I take great pleasure in...</td>\n",
       "    </tr>\n",
       "    <tr>\n",
       "      <th>COG</th>\n",
       "      <td>Congo</td>\n",
       "      <td>Africa</td>\n",
       "      <td>Sub-Saharan Africa</td>\n",
       "      <td>NaN</td>\n",
       "      <td>25</td>\n",
       "      <td>122.\\t  I cannot begin my intervention without...</td>\n",
       "    </tr>\n",
       "    <tr>\n",
       "      <th>DZA</th>\n",
       "      <td>Algeria</td>\n",
       "      <td>Africa</td>\n",
       "      <td>Northern Africa</td>\n",
       "      <td>NaN</td>\n",
       "      <td>25</td>\n",
       "      <td>1.  The delegation of Algeria is very pleased ...</td>\n",
       "    </tr>\n",
       "    <tr>\n",
       "      <th>LKA</th>\n",
       "      <td>Sri Lanka</td>\n",
       "      <td>Asia</td>\n",
       "      <td>Southern Asia</td>\n",
       "      <td>NaN</td>\n",
       "      <td>25</td>\n",
       "      <td>176.\\t Mr. President, the delegation of Ceylon...</td>\n",
       "    </tr>\n",
       "  </tbody>\n",
       "</table>\n",
       "</div>"
      ],
      "text/plain": [
       "                     Country or Area Region Name  \\\n",
       "Year ISO-alpha3 Code                               \n",
       "1970 AUT                     Austria      Europe   \n",
       "     MEX                      Mexico    Americas   \n",
       "     COG                       Congo      Africa   \n",
       "     DZA                     Algeria      Africa   \n",
       "     LKA                   Sri Lanka        Asia   \n",
       "\n",
       "                                      Sub-region Name  \\\n",
       "Year ISO-alpha3 Code                                    \n",
       "1970 AUT                               Western Europe   \n",
       "     MEX              Latin America and the Caribbean   \n",
       "     COG                           Sub-Saharan Africa   \n",
       "     DZA                              Northern Africa   \n",
       "     LKA                                Southern Asia   \n",
       "\n",
       "                     Least Developed Countries (LDC)  Session  \\\n",
       "Year ISO-alpha3 Code                                            \n",
       "1970 AUT                                         NaN       25   \n",
       "     MEX                                         NaN       25   \n",
       "     COG                                         NaN       25   \n",
       "     DZA                                         NaN       25   \n",
       "     LKA                                         NaN       25   \n",
       "\n",
       "                                                                 Speech  \n",
       "Year ISO-alpha3 Code                                                     \n",
       "1970 AUT              155.\\t  May I begin by expressing to Ambassado...  \n",
       "     MEX              33.\\t  Mr. President, I take great pleasure in...  \n",
       "     COG              122.\\t  I cannot begin my intervention without...  \n",
       "     DZA              1.  The delegation of Algeria is very pleased ...  \n",
       "     LKA              176.\\t Mr. President, the delegation of Ceylon...  "
      ]
     },
     "execution_count": 4,
     "metadata": {},
     "output_type": "execute_result"
    }
   ],
   "source": [
    "import os\n",
    "import numpy as np\n",
    "import pandas as pd\n",
    "\n",
    "sessions = np.arange(25, 76)\n",
    "data=[]\n",
    "\n",
    "for session in sessions:\n",
    "    directory = \"./TXT/Session \"+str(session)+\" - \"+str(1945+session)\n",
    "\n",
    "    # directory = f\"./TXT/Session {session} - {1945+session}\"\n",
    "    for filename in os.listdir(directory):\n",
    "        # f = open(os.path.join(directory, filename))\n",
    "        with open(os.path.join(directory, filename)) as f:\n",
    "            if filename[0]==\".\": #ignore hidden files\n",
    "                continue\n",
    "            splt = filename.split(\"_\")\n",
    "            data.append([session, 1945+session, splt[0], f.read()])\n",
    "\n",
    "df_speech = pd.DataFrame(data, columns=['Session','Year','ISO-alpha3 Code','Speech'])\n",
    "df_codes = pd.read_csv('UNSD — Methodology.csv', delimiter=';')\n",
    "\n",
    "df = pd.merge(left=df_speech, right=df_codes, how='left', on='ISO-alpha3 Code')\n",
    "df = df[[\"Country or Area\", \"Region Name\",\"Sub-region Name\", \"ISO-alpha3 Code\",\"Least Developed Countries (LDC)\", \"Session\", \"Year\", \"Speech\"]]\n",
    "df = df.set_index(['Year', 'ISO-alpha3 Code'])\n",
    "\n",
    "df.head()"
   ]
  }
 ],
 "metadata": {
  "colab": {
   "provenance": [],
   "toc_visible": true
  },
  "kernelspec": {
   "display_name": "Python 3.10.8 64-bit",
   "language": "python",
   "name": "python3"
  },
  "language_info": {
   "codemirror_mode": {
    "name": "ipython",
    "version": 3
   },
   "file_extension": ".py",
   "mimetype": "text/x-python",
   "name": "python",
   "nbconvert_exporter": "python",
   "pygments_lexer": "ipython3",
   "version": "3.10.8"
  },
  "vscode": {
   "interpreter": {
    "hash": "aee8b7b246df8f9039afb4144a1f6fd8d2ca17a180786b69acc140d282b71a49"
   }
  }
 },
 "nbformat": 4,
 "nbformat_minor": 5
}
